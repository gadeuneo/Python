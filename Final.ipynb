{
 "cells": [
  {
   "cell_type": "code",
   "execution_count": 16,
   "metadata": {},
   "outputs": [],
   "source": [
    "from random import shuffle as sh\n",
    "\n",
    "# Function that returns 3 fencing pairs given a list of names\n",
    "def fencing(names):\n",
    "    copy = names.copy()\n",
    "    limit = len(copy)%6\n",
    "    matches = [[],[],[]]\n",
    "    while(len(copy) != limit):\n",
    "        sh(copy)\n",
    "        if (len(matches[0]) != 2):\n",
    "            sh(copy)\n",
    "            matches[0].append(copy.pop())\n",
    "        elif (len(matches[1]) != 2):\n",
    "            sh(copy)\n",
    "            matches[1].append(copy.pop())\n",
    "        elif (len(matches[2]) != 2):\n",
    "            sh(copy)\n",
    "            matches[2].append(copy.pop())\n",
    "        if (len(matches[2]) == 2 and len(matches[0]) == 2 and len(matches[1]) == 2):\n",
    "            print(matches)\n",
    "            matches = [[],[],[]]\n",
    "    if(len(copy)==0):\n",
    "        return\n",
    "    else:\n",
    "        return copy"
   ]
  },
  {
   "cell_type": "code",
   "execution_count": 17,
   "metadata": {},
   "outputs": [],
   "source": [
    "# Function that returns matches given original roster and leftover roster\n",
    "def blade(names, extra):\n",
    "    r = names.copy()\n",
    "    e = extra.copy()\n",
    "    if(len(e)!=0):\n",
    "        dupe = list(set(r)-set(e))\n",
    "        sh(dupe)\n",
    "        while(len(e) != 6):\n",
    "            sh(dupe)\n",
    "            e.append(dupe.pop())\n",
    "        fencing(e)\n",
    "    return fencing(r)"
   ]
  },
  {
   "cell_type": "code",
   "execution_count": 31,
   "metadata": {},
   "outputs": [],
   "source": [
    "# Function that prints out roughly n matches (give or take 1-3), where n >= 2\n",
    "def matches(names, num):\n",
    "    if(num >= 2):\n",
    "        extra = fencing(names)\n",
    "        i = 2\n",
    "    else:\n",
    "        return\n",
    "    while(i < num):\n",
    "        if(len(extra) == 0):\n",
    "            extra = fencing(names)\n",
    "            i += 2\n",
    "        else:\n",
    "            extra = blade(names, extra)\n",
    "            i += 3\n",
    "    return"
   ]
  },
  {
   "cell_type": "code",
   "execution_count": 33,
   "metadata": {},
   "outputs": [
    {
     "name": "stdout",
     "output_type": "stream",
     "text": [
      "[['Sophie', 'Anna'], ['Duncan', 'Rosie'], ['Kavie', 'Raven']]\n",
      "[['Ian', 'Yue'], ['Tyler', 'Megan'], ['Yihuang', 'Serafina']]\n",
      "[['Schuyler', 'Isabelle'], ['Anders', 'Tanvi'], ['Rosie', 'Haoyi']]\n",
      "[['Isabelle', 'Ian'], ['Yihuang', 'Kavie'], ['Yue', 'Duncan']]\n",
      "[['Anna', 'Haoyi'], ['Tanvi', 'Serafina'], ['Anders', 'Sophie']]\n",
      "[['Anna', 'Megan'], ['Schuyler', 'Tyler'], ['Raven', 'Rosie']]\n",
      "[['Anna', 'Kavie'], ['Raven', 'Anders'], ['Schuyler', 'Rosie']]\n",
      "[['Yihuang', 'Sophie'], ['Megan', 'Yue'], ['Tanvi', 'Haoyi']]\n",
      "[['Tyler', 'Duncan'], ['Ian', 'Yihuang'], ['Isabelle', 'Serafina']]\n",
      "[['Tanvi', 'Raven'], ['Anders', 'Serafina'], ['Rosie', 'Yihuang']]\n",
      "[['Anna', 'Yue'], ['Schuyler', 'Sophie'], ['Ian', 'Haoyi']]\n"
     ]
    }
   ],
   "source": [
    "roster = [\n",
    "\"Serafina\",\n",
    "\"Tyler\",\n",
    "\"Schuyler\",\n",
    "\"Raven\",\n",
    "\"Tanvi\",\n",
    "\"Duncan\",\n",
    "\"Isabelle\",\n",
    "\"Ian\",\n",
    "\"Anna\",\n",
    "\"Haoyi\",\n",
    "\"Yue\",\n",
    "\"Megan\",\n",
    "\"Rosie\",\n",
    "\"Sophie\",\n",
    "\"Anders\",\n",
    "\"Kavie\",\n",
    "\"Yihuang\"\n",
    "]\n",
    "\n",
    "num_triples = 10\n",
    "\n",
    "\n",
    "matches(roster, num_triples)"
   ]
  }
 ],
 "metadata": {
  "kernelspec": {
   "display_name": "Python 3",
   "language": "python",
   "name": "python3"
  },
  "language_info": {
   "codemirror_mode": {
    "name": "ipython",
    "version": 3
   },
   "file_extension": ".py",
   "mimetype": "text/x-python",
   "name": "python",
   "nbconvert_exporter": "python",
   "pygments_lexer": "ipython3",
   "version": "3.6.0"
  }
 },
 "nbformat": 4,
 "nbformat_minor": 2
}
